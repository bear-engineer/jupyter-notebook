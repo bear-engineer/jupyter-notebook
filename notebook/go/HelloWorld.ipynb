{
 "cells": [
  {
   "cell_type": "code",
   "execution_count": 2,
   "metadata": {},
   "outputs": [
    {
     "name": "stdout",
     "output_type": "stream",
     "text": [
      "Hello World!\n"
     ]
    }
   ],
   "source": [
    "import (\n",
    "    \"fmt\"\n",
    ")\n",
    "\n",
    "func HelloWorld(){\n",
    "    fmt.Println(\"Hello World!\");\n",
    "}\n",
    "\n",
    "HelloWorld();"
   ]
  }
 ],
 "metadata": {
  "kernelspec": {
   "display_name": "Go",
   "language": "go",
   "name": "gophernotes"
  },
  "language_info": {
   "codemirror_mode": "",
   "file_extension": ".go",
   "mimetype": "",
   "name": "go",
   "nbconvert_exporter": "",
   "pygments_lexer": "",
   "version": "go1.15.6"
  }
 },
 "nbformat": 4,
 "nbformat_minor": 4
}
